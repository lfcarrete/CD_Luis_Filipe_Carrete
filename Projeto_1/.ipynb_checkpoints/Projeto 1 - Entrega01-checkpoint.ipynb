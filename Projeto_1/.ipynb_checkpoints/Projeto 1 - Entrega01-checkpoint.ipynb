{
 "cells": [
  {
   "cell_type": "markdown",
   "metadata": {},
   "source": [
    "# Projeto 1 - Ciência dos Dados\n",
    "## Luis Filipe Carrete\n",
    "\n"
   ]
  },
  {
   "cell_type": "markdown",
   "metadata": {},
   "source": [
    "## Pergunta\n",
    "\n",
    "Qual é o impacto nos investimentos externos de um país com a entrada dele na União Europeia?"
   ]
  },
  {
   "cell_type": "markdown",
   "metadata": {},
   "source": [
    "## Explicação da hipótese e mecanismo\n",
    "\n",
    "Com a adesão de um país a União Europeia ele passa a ter o Euro, a moeda centralizada da União Europeia e como resultado acaba tendo um aumento em investimentos extrangeiros por ter uma taxa mais baixa de conversão de cambio, ou seja é mais barato para investidores que utilizam o euro investir em países que também utilizam o euro. \n",
    "\n",
    "\n",
    "#### Referências: \n",
    "https://www.economicsonline.co.uk/Global_economics/Monetary_Union.html\n",
    "\n",
    "https://www.researchgate.net/publication/272903893_The_advantages_of_being_a_member_of_the_European_Monetary_Union_and_its_influence_on_trade_in_the_Eurozone/fulltext/57eeaf3508ae886b897402d3/The-advantages-of-being-a-member-of-the-European-Monetary-Union-and-its-influence-on-trade-in-the-Eurozone.pdf"
   ]
  },
  {
   "cell_type": "code",
   "execution_count": 5,
   "metadata": {},
   "outputs": [],
   "source": [
    "%matplotlib inline\n",
    "import pandas as pd\n",
    "import matplotlib.pyplot as plt\n",
    "import os\n",
    "from numpy import arange\n",
    "from numpy import percentile\n",
    "import numpy as np"
   ]
  },
  {
   "cell_type": "markdown",
   "metadata": {},
   "source": [
    "## Base de dados usados\n",
    "\n",
    "Link: https://data.worldbank.org/indicator/BX.KLT.DINV.WD.GD.ZS\n",
    "\n",
    "Descrição: Apesar de ter pego o inflow de todos os países, o dataframe completo será dividido em dois dataframes separados onde um conterá o inflow de países da União Europeia enquanto outro conterá o inflow de países do Mercosul."
   ]
  },
  {
   "cell_type": "code",
   "execution_count": 6,
   "metadata": {},
   "outputs": [],
   "source": [
    "dados_inteiros = pd.read_excel('Foreign investment inflow.xlsx')"
   ]
  },
  {
   "cell_type": "code",
   "execution_count": 7,
   "metadata": {},
   "outputs": [
    {
     "data": {
      "text/html": [
       "<div>\n",
       "<style scoped>\n",
       "    .dataframe tbody tr th:only-of-type {\n",
       "        vertical-align: middle;\n",
       "    }\n",
       "\n",
       "    .dataframe tbody tr th {\n",
       "        vertical-align: top;\n",
       "    }\n",
       "\n",
       "    .dataframe thead th {\n",
       "        text-align: right;\n",
       "    }\n",
       "</style>\n",
       "<table border=\"1\" class=\"dataframe\">\n",
       "  <thead>\n",
       "    <tr style=\"text-align: right;\">\n",
       "      <th></th>\n",
       "      <th>Paises</th>\n",
       "      <th>1970</th>\n",
       "      <th>1971</th>\n",
       "      <th>1972</th>\n",
       "      <th>1973</th>\n",
       "      <th>1974</th>\n",
       "      <th>1975</th>\n",
       "      <th>1976</th>\n",
       "      <th>1977</th>\n",
       "      <th>1978</th>\n",
       "      <th>...</th>\n",
       "      <th>2002</th>\n",
       "      <th>2003</th>\n",
       "      <th>2004</th>\n",
       "      <th>2005</th>\n",
       "      <th>2006</th>\n",
       "      <th>2007</th>\n",
       "      <th>2008</th>\n",
       "      <th>2009</th>\n",
       "      <th>2010</th>\n",
       "      <th>2011</th>\n",
       "    </tr>\n",
       "  </thead>\n",
       "  <tbody>\n",
       "    <tr>\n",
       "      <th>0</th>\n",
       "      <td>Afghanistan</td>\n",
       "      <td>0.013151</td>\n",
       "      <td>0.024575</td>\n",
       "      <td>0.009401</td>\n",
       "      <td>0.015577</td>\n",
       "      <td>NaN</td>\n",
       "      <td>NaN</td>\n",
       "      <td>0.001565</td>\n",
       "      <td>-0.008126</td>\n",
       "      <td>NaN</td>\n",
       "      <td>...</td>\n",
       "      <td>1.152364</td>\n",
       "      <td>1.212725</td>\n",
       "      <td>3.276532</td>\n",
       "      <td>3.976666</td>\n",
       "      <td>3.082130</td>\n",
       "      <td>2.503252</td>\n",
       "      <td>2.512500</td>\n",
       "      <td>1.301564</td>\n",
       "      <td>0.438726</td>\n",
       "      <td>NaN</td>\n",
       "    </tr>\n",
       "    <tr>\n",
       "      <th>1</th>\n",
       "      <td>Albania</td>\n",
       "      <td>NaN</td>\n",
       "      <td>NaN</td>\n",
       "      <td>NaN</td>\n",
       "      <td>NaN</td>\n",
       "      <td>NaN</td>\n",
       "      <td>NaN</td>\n",
       "      <td>NaN</td>\n",
       "      <td>NaN</td>\n",
       "      <td>NaN</td>\n",
       "      <td>...</td>\n",
       "      <td>3.034135</td>\n",
       "      <td>3.149791</td>\n",
       "      <td>4.572142</td>\n",
       "      <td>3.133523</td>\n",
       "      <td>3.561523</td>\n",
       "      <td>6.186838</td>\n",
       "      <td>7.390890</td>\n",
       "      <td>8.008638</td>\n",
       "      <td>9.414123</td>\n",
       "      <td>NaN</td>\n",
       "    </tr>\n",
       "    <tr>\n",
       "      <th>2</th>\n",
       "      <td>Algeria</td>\n",
       "      <td>1.647378</td>\n",
       "      <td>0.011817</td>\n",
       "      <td>0.613595</td>\n",
       "      <td>0.585191</td>\n",
       "      <td>2.710127</td>\n",
       "      <td>0.764883</td>\n",
       "      <td>1.054808</td>\n",
       "      <td>0.850913</td>\n",
       "      <td>0.51263</td>\n",
       "      <td>...</td>\n",
       "      <td>1.866684</td>\n",
       "      <td>0.931657</td>\n",
       "      <td>1.037359</td>\n",
       "      <td>1.056292</td>\n",
       "      <td>1.532824</td>\n",
       "      <td>1.223827</td>\n",
       "      <td>1.517639</td>\n",
       "      <td>1.998263</td>\n",
       "      <td>1.414501</td>\n",
       "      <td>NaN</td>\n",
       "    </tr>\n",
       "    <tr>\n",
       "      <th>3</th>\n",
       "      <td>American Samoa</td>\n",
       "      <td>NaN</td>\n",
       "      <td>NaN</td>\n",
       "      <td>NaN</td>\n",
       "      <td>NaN</td>\n",
       "      <td>NaN</td>\n",
       "      <td>NaN</td>\n",
       "      <td>NaN</td>\n",
       "      <td>NaN</td>\n",
       "      <td>NaN</td>\n",
       "      <td>...</td>\n",
       "      <td>NaN</td>\n",
       "      <td>NaN</td>\n",
       "      <td>NaN</td>\n",
       "      <td>NaN</td>\n",
       "      <td>NaN</td>\n",
       "      <td>NaN</td>\n",
       "      <td>NaN</td>\n",
       "      <td>NaN</td>\n",
       "      <td>NaN</td>\n",
       "      <td>NaN</td>\n",
       "    </tr>\n",
       "    <tr>\n",
       "      <th>4</th>\n",
       "      <td>Andorra</td>\n",
       "      <td>NaN</td>\n",
       "      <td>NaN</td>\n",
       "      <td>NaN</td>\n",
       "      <td>NaN</td>\n",
       "      <td>NaN</td>\n",
       "      <td>NaN</td>\n",
       "      <td>NaN</td>\n",
       "      <td>NaN</td>\n",
       "      <td>NaN</td>\n",
       "      <td>...</td>\n",
       "      <td>NaN</td>\n",
       "      <td>NaN</td>\n",
       "      <td>NaN</td>\n",
       "      <td>NaN</td>\n",
       "      <td>NaN</td>\n",
       "      <td>NaN</td>\n",
       "      <td>NaN</td>\n",
       "      <td>NaN</td>\n",
       "      <td>NaN</td>\n",
       "      <td>NaN</td>\n",
       "    </tr>\n",
       "  </tbody>\n",
       "</table>\n",
       "<p>5 rows × 43 columns</p>\n",
       "</div>"
      ],
      "text/plain": [
       "           Paises      1970      1971      1972      1973      1974      1975  \\\n",
       "0     Afghanistan  0.013151  0.024575  0.009401  0.015577       NaN       NaN   \n",
       "1         Albania       NaN       NaN       NaN       NaN       NaN       NaN   \n",
       "2         Algeria  1.647378  0.011817  0.613595  0.585191  2.710127  0.764883   \n",
       "3  American Samoa       NaN       NaN       NaN       NaN       NaN       NaN   \n",
       "4         Andorra       NaN       NaN       NaN       NaN       NaN       NaN   \n",
       "\n",
       "       1976      1977     1978  ...       2002      2003      2004      2005  \\\n",
       "0  0.001565 -0.008126      NaN  ...   1.152364  1.212725  3.276532  3.976666   \n",
       "1       NaN       NaN      NaN  ...   3.034135  3.149791  4.572142  3.133523   \n",
       "2  1.054808  0.850913  0.51263  ...   1.866684  0.931657  1.037359  1.056292   \n",
       "3       NaN       NaN      NaN  ...        NaN       NaN       NaN       NaN   \n",
       "4       NaN       NaN      NaN  ...        NaN       NaN       NaN       NaN   \n",
       "\n",
       "       2006      2007      2008      2009      2010  2011  \n",
       "0  3.082130  2.503252  2.512500  1.301564  0.438726   NaN  \n",
       "1  3.561523  6.186838  7.390890  8.008638  9.414123   NaN  \n",
       "2  1.532824  1.223827  1.517639  1.998263  1.414501   NaN  \n",
       "3       NaN       NaN       NaN       NaN       NaN   NaN  \n",
       "4       NaN       NaN       NaN       NaN       NaN   NaN  \n",
       "\n",
       "[5 rows x 43 columns]"
      ]
     },
     "execution_count": 7,
     "metadata": {},
     "output_type": "execute_result"
    }
   ],
   "source": [
    "dados_inteiros.head()"
   ]
  },
  {
   "cell_type": "code",
   "execution_count": 35,
   "metadata": {},
   "outputs": [
    {
     "ename": "KeyError",
     "evalue": "'None of [0       0.438726\\n1       9.414123\\n2       1.414501\\n3            NaN\\n4            NaN\\n5      -3.799535\\n6       7.981280\\n7       1.913311\\n8       6.083114\\n9            NaN\\n10      2.701987\\n11     -6.762872\\n12      1.087669\\n13     11.185786\\n14           NaN\\n15      0.913645\\n16     16.275158\\n17      2.563918\\n18     15.534360\\n19      6.884360\\n20      1.672382\\n21      3.642934\\n22      1.252591\\n23      3.165429\\n24      1.396675\\n25      1.783163\\n26      2.323231\\n27           NaN\\n28      4.936496\\n29      0.420932\\n         ...    \\n183     1.275054\\n184     4.111718\\n185     2.483974\\n186     0.279902\\n187     1.891520\\n188     3.038685\\n189    39.892582\\n190     1.302011\\n191     4.654133\\n192     2.666483\\n193     3.162880\\n194     1.236988\\n195    10.414635\\n196          NaN\\n197     4.784566\\n198     4.803891\\n199     4.708934\\n200     1.326498\\n201     2.341948\\n202     1.619458\\n203     4.166163\\n204     2.108687\\n205     5.567057\\n206     0.308538\\n207     7.516900\\n208          NaN\\n209          NaN\\n210     0.178230\\n211     6.431231\\n212     1.409846\\nName: 2010, Length: 213, dtype: float64] are in the [index]'",
     "output_type": "error",
     "traceback": [
      "\u001b[1;31m---------------------------------------------------------------------------\u001b[0m",
      "\u001b[1;31mKeyError\u001b[0m                                  Traceback (most recent call last)",
      "\u001b[1;32m<ipython-input-35-7cda4b022a5b>\u001b[0m in \u001b[0;36m<module>\u001b[1;34m\u001b[0m\n\u001b[0;32m      7\u001b[0m \u001b[0meuro\u001b[0m\u001b[1;33m=\u001b[0m\u001b[1;33m[\u001b[0m\u001b[1;34m'Austria'\u001b[0m\u001b[1;33m,\u001b[0m\u001b[1;34m'Belgium'\u001b[0m\u001b[1;33m,\u001b[0m\u001b[1;34m'Cyprus'\u001b[0m\u001b[1;33m,\u001b[0m\u001b[1;34m'Estonia'\u001b[0m\u001b[1;33m,\u001b[0m\u001b[1;34m'Finland'\u001b[0m\u001b[1;33m,\u001b[0m\u001b[1;34m'France'\u001b[0m\u001b[1;33m,\u001b[0m\u001b[1;34m'Germany'\u001b[0m\u001b[1;33m,\u001b[0m\u001b[1;34m'Greece'\u001b[0m\u001b[1;33m,\u001b[0m\u001b[1;34m'Ireland'\u001b[0m\u001b[1;33m,\u001b[0m\u001b[1;34m'Italy'\u001b[0m\u001b[1;33m,\u001b[0m\u001b[1;34m'Latvia'\u001b[0m\u001b[1;33m,\u001b[0m\u001b[1;34m'Lithuania'\u001b[0m\u001b[1;33m,\u001b[0m\u001b[1;34m'Luxembourg'\u001b[0m\u001b[1;33m,\u001b[0m\u001b[1;34m'Malta'\u001b[0m\u001b[1;33m,\u001b[0m\u001b[1;34m'Portugal'\u001b[0m\u001b[1;33m,\u001b[0m\u001b[1;34m'Slovak Republic'\u001b[0m\u001b[1;33m,\u001b[0m\u001b[1;34m'Slovenia'\u001b[0m\u001b[1;33m,\u001b[0m\u001b[1;34m'Spain'\u001b[0m\u001b[1;33m]\u001b[0m\u001b[1;33m\u001b[0m\u001b[1;33m\u001b[0m\u001b[0m\n\u001b[0;32m      8\u001b[0m \u001b[1;33m\u001b[0m\u001b[0m\n\u001b[1;32m----> 9\u001b[1;33m \u001b[0mdados_recentes\u001b[0m \u001b[1;33m=\u001b[0m \u001b[0mdados_inteiros\u001b[0m\u001b[1;33m.\u001b[0m\u001b[0mloc\u001b[0m\u001b[1;33m[\u001b[0m\u001b[1;33m(\u001b[0m\u001b[0mdados_inteiros\u001b[0m\u001b[1;33m[\u001b[0m\u001b[1;34m'2010'\u001b[0m\u001b[1;33m]\u001b[0m\u001b[1;33m)\u001b[0m\u001b[1;33m]\u001b[0m\u001b[1;33m\u001b[0m\u001b[1;33m\u001b[0m\u001b[0m\n\u001b[0m\u001b[0;32m     10\u001b[0m \u001b[1;33m\u001b[0m\u001b[0m\n\u001b[0;32m     11\u001b[0m \u001b[0mdados\u001b[0m \u001b[1;33m=\u001b[0m \u001b[0mpd\u001b[0m\u001b[1;33m.\u001b[0m\u001b[0mDataFrame\u001b[0m\u001b[1;33m(\u001b[0m\u001b[0mindex\u001b[0m\u001b[1;33m=\u001b[0m\u001b[0mdados_inteiros\u001b[0m\u001b[1;33m[\u001b[0m\u001b[1;34m\"Paises\"\u001b[0m\u001b[1;33m]\u001b[0m\u001b[1;33m)\u001b[0m\u001b[1;33m\u001b[0m\u001b[1;33m\u001b[0m\u001b[0m\n",
      "\u001b[1;32m~\\Anaconda3\\lib\\site-packages\\pandas\\core\\indexing.py\u001b[0m in \u001b[0;36m__getitem__\u001b[1;34m(self, key)\u001b[0m\n\u001b[0;32m   1476\u001b[0m \u001b[1;33m\u001b[0m\u001b[0m\n\u001b[0;32m   1477\u001b[0m             \u001b[0mmaybe_callable\u001b[0m \u001b[1;33m=\u001b[0m \u001b[0mcom\u001b[0m\u001b[1;33m.\u001b[0m\u001b[0m_apply_if_callable\u001b[0m\u001b[1;33m(\u001b[0m\u001b[0mkey\u001b[0m\u001b[1;33m,\u001b[0m \u001b[0mself\u001b[0m\u001b[1;33m.\u001b[0m\u001b[0mobj\u001b[0m\u001b[1;33m)\u001b[0m\u001b[1;33m\u001b[0m\u001b[1;33m\u001b[0m\u001b[0m\n\u001b[1;32m-> 1478\u001b[1;33m             \u001b[1;32mreturn\u001b[0m \u001b[0mself\u001b[0m\u001b[1;33m.\u001b[0m\u001b[0m_getitem_axis\u001b[0m\u001b[1;33m(\u001b[0m\u001b[0mmaybe_callable\u001b[0m\u001b[1;33m,\u001b[0m \u001b[0maxis\u001b[0m\u001b[1;33m=\u001b[0m\u001b[0maxis\u001b[0m\u001b[1;33m)\u001b[0m\u001b[1;33m\u001b[0m\u001b[1;33m\u001b[0m\u001b[0m\n\u001b[0m\u001b[0;32m   1479\u001b[0m \u001b[1;33m\u001b[0m\u001b[0m\n\u001b[0;32m   1480\u001b[0m     \u001b[1;32mdef\u001b[0m \u001b[0m_is_scalar_access\u001b[0m\u001b[1;33m(\u001b[0m\u001b[0mself\u001b[0m\u001b[1;33m,\u001b[0m \u001b[0mkey\u001b[0m\u001b[1;33m)\u001b[0m\u001b[1;33m:\u001b[0m\u001b[1;33m\u001b[0m\u001b[1;33m\u001b[0m\u001b[0m\n",
      "\u001b[1;32m~\\Anaconda3\\lib\\site-packages\\pandas\\core\\indexing.py\u001b[0m in \u001b[0;36m_getitem_axis\u001b[1;34m(self, key, axis)\u001b[0m\n\u001b[0;32m   1899\u001b[0m                     \u001b[1;32mraise\u001b[0m \u001b[0mValueError\u001b[0m\u001b[1;33m(\u001b[0m\u001b[1;34m'Cannot index with multidimensional key'\u001b[0m\u001b[1;33m)\u001b[0m\u001b[1;33m\u001b[0m\u001b[1;33m\u001b[0m\u001b[0m\n\u001b[0;32m   1900\u001b[0m \u001b[1;33m\u001b[0m\u001b[0m\n\u001b[1;32m-> 1901\u001b[1;33m                 \u001b[1;32mreturn\u001b[0m \u001b[0mself\u001b[0m\u001b[1;33m.\u001b[0m\u001b[0m_getitem_iterable\u001b[0m\u001b[1;33m(\u001b[0m\u001b[0mkey\u001b[0m\u001b[1;33m,\u001b[0m \u001b[0maxis\u001b[0m\u001b[1;33m=\u001b[0m\u001b[0maxis\u001b[0m\u001b[1;33m)\u001b[0m\u001b[1;33m\u001b[0m\u001b[1;33m\u001b[0m\u001b[0m\n\u001b[0m\u001b[0;32m   1902\u001b[0m \u001b[1;33m\u001b[0m\u001b[0m\n\u001b[0;32m   1903\u001b[0m             \u001b[1;31m# nested tuple slicing\u001b[0m\u001b[1;33m\u001b[0m\u001b[1;33m\u001b[0m\u001b[1;33m\u001b[0m\u001b[0m\n",
      "\u001b[1;32m~\\Anaconda3\\lib\\site-packages\\pandas\\core\\indexing.py\u001b[0m in \u001b[0;36m_getitem_iterable\u001b[1;34m(self, key, axis)\u001b[0m\n\u001b[0;32m   1161\u001b[0m                     \u001b[0mresult\u001b[0m \u001b[1;33m=\u001b[0m \u001b[0mself\u001b[0m\u001b[1;33m.\u001b[0m\u001b[0mobj\u001b[0m\u001b[1;33m.\u001b[0m\u001b[0m_take\u001b[0m\u001b[1;33m(\u001b[0m\u001b[0mindexer\u001b[0m\u001b[1;33m[\u001b[0m\u001b[0mindexer\u001b[0m \u001b[1;33m!=\u001b[0m \u001b[1;33m-\u001b[0m\u001b[1;36m1\u001b[0m\u001b[1;33m]\u001b[0m\u001b[1;33m,\u001b[0m \u001b[0maxis\u001b[0m\u001b[1;33m=\u001b[0m\u001b[0maxis\u001b[0m\u001b[1;33m)\u001b[0m\u001b[1;33m\u001b[0m\u001b[1;33m\u001b[0m\u001b[0m\n\u001b[0;32m   1162\u001b[0m \u001b[1;33m\u001b[0m\u001b[0m\n\u001b[1;32m-> 1163\u001b[1;33m                     \u001b[0mself\u001b[0m\u001b[1;33m.\u001b[0m\u001b[0m_validate_read_indexer\u001b[0m\u001b[1;33m(\u001b[0m\u001b[0mkey\u001b[0m\u001b[1;33m,\u001b[0m \u001b[0mnew_indexer\u001b[0m\u001b[1;33m,\u001b[0m \u001b[0maxis\u001b[0m\u001b[1;33m)\u001b[0m\u001b[1;33m\u001b[0m\u001b[1;33m\u001b[0m\u001b[0m\n\u001b[0m\u001b[0;32m   1164\u001b[0m                     result = result._reindex_with_indexers(\n\u001b[0;32m   1165\u001b[0m                         \u001b[1;33m{\u001b[0m\u001b[0maxis\u001b[0m\u001b[1;33m:\u001b[0m \u001b[1;33m[\u001b[0m\u001b[0mnew_target\u001b[0m\u001b[1;33m,\u001b[0m \u001b[0mnew_indexer\u001b[0m\u001b[1;33m]\u001b[0m\u001b[1;33m}\u001b[0m\u001b[1;33m,\u001b[0m\u001b[1;33m\u001b[0m\u001b[1;33m\u001b[0m\u001b[0m\n",
      "\u001b[1;32m~\\Anaconda3\\lib\\site-packages\\pandas\\core\\indexing.py\u001b[0m in \u001b[0;36m_validate_read_indexer\u001b[1;34m(self, key, indexer, axis)\u001b[0m\n\u001b[0;32m   1204\u001b[0m                 raise KeyError(\n\u001b[0;32m   1205\u001b[0m                     u\"None of [{key}] are in the [{axis}]\".format(\n\u001b[1;32m-> 1206\u001b[1;33m                         key=key, axis=self.obj._get_axis_name(axis)))\n\u001b[0m\u001b[0;32m   1207\u001b[0m \u001b[1;33m\u001b[0m\u001b[0m\n\u001b[0;32m   1208\u001b[0m             \u001b[1;31m# we skip the warning on Categorical/Interval\u001b[0m\u001b[1;33m\u001b[0m\u001b[1;33m\u001b[0m\u001b[1;33m\u001b[0m\u001b[0m\n",
      "\u001b[1;31mKeyError\u001b[0m: 'None of [0       0.438726\\n1       9.414123\\n2       1.414501\\n3            NaN\\n4            NaN\\n5      -3.799535\\n6       7.981280\\n7       1.913311\\n8       6.083114\\n9            NaN\\n10      2.701987\\n11     -6.762872\\n12      1.087669\\n13     11.185786\\n14           NaN\\n15      0.913645\\n16     16.275158\\n17      2.563918\\n18     15.534360\\n19      6.884360\\n20      1.672382\\n21      3.642934\\n22      1.252591\\n23      3.165429\\n24      1.396675\\n25      1.783163\\n26      2.323231\\n27           NaN\\n28      4.936496\\n29      0.420932\\n         ...    \\n183     1.275054\\n184     4.111718\\n185     2.483974\\n186     0.279902\\n187     1.891520\\n188     3.038685\\n189    39.892582\\n190     1.302011\\n191     4.654133\\n192     2.666483\\n193     3.162880\\n194     1.236988\\n195    10.414635\\n196          NaN\\n197     4.784566\\n198     4.803891\\n199     4.708934\\n200     1.326498\\n201     2.341948\\n202     1.619458\\n203     4.166163\\n204     2.108687\\n205     5.567057\\n206     0.308538\\n207     7.516900\\n208          NaN\\n209          NaN\\n210     0.178230\\n211     6.431231\\n212     1.409846\\nName: 2010, Length: 213, dtype: float64] are in the [index]'"
     ]
    }
   ],
   "source": [
    "ue=['United Kingdom','Sweden','Spain','Slovenia','Slovak Republic', 'Romania','Portugal','Poland','Malta','Lithuania','Hungary','Finland','Estonia','Denmark','Czech Rep.','Cyprus','Croatia','Austria','Bulgaria','Ireland','Greece','Latvia']\n",
    "\n",
    "mercosul=['Brazil', 'Paraguay', 'Uruguay', 'Argentina', \"Venezuela\"]\n",
    "\n",
    "subiu=['Croatia','Cyprus','Czech Rep.','Estonia','Finland','Hungary','Ireland','Latvia','Lithuania','Malta','Portugal','Romania','Slovenia','Spain','United Kingdom','Uruguay']\n",
    "\n",
    "euro=['Austria','Belgium','Cyprus','Estonia','Finland','France','Germany','Greece','Ireland','Italy','Latvia','Lithuania','Luxembourg','Malta','Portugal','Slovak Republic','Slovenia','Spain']\n",
    "\n",
    "\n",
    "dados = pd.DataFrame(index=dados_inteiros[\"Paises\"])\n",
    "dados[\"UE\"] = 0\n",
    "dados[\"Merco\"] = 0\n",
    "dados[\"Subiu\"] = 0 \n",
    "dados[\"Euro\"] = 0\n",
    "dados[\"ivext_2010\"] = dados_recentes\n",
    "dados.loc[ue,\"UE\"] = 1\n",
    "dados.loc[mercosul, \"Merco\"]=1\n",
    "dados.loc[subiu,\"Subiu\"]=1 #Os dados são referentes a seu ano de entrada no bloco economico\n",
    "dados.loc[euro,\"Euro\"]=1\n",
    "\n",
    "\n",
    "dados.loc[(dados.UE==1) | dados.Merco==1]"
   ]
  },
  {
   "cell_type": "code",
   "execution_count": 104,
   "metadata": {},
   "outputs": [
    {
     "data": {
      "image/png": "[encoded data removed]",
      "text/plain": [
       "<Figure size 432x432 with 1 Axes>"
      ]
     },
     "metadata": {
      "needs_background": "light"
     },
     "output_type": "display_data"
    },
    {
     "data": {
      "image/png": "[encoded data removed]",
      "text/plain": [
       "<Figure size 432x432 with 1 Axes>"
      ]
     },
     "metadata": {
      "needs_background": "light"
     },
     "output_type": "display_data"
    }
   ],
   "source": [
    "ue_dados = dados.loc[(dados.UE==1)]\n",
    "\n",
    "ue_subiu = (ue_dados.Subiu.value_counts(sort=False, normalize=True)*100).round(decimals=1)\n",
    "\n",
    "\n",
    "merco_dados = dados.loc[(dados.Merco==1)]\n",
    "\n",
    "merco_subiu = (merco_dados.Subiu.value_counts(sort=False, normalize=True)*100).round(decimals=1)\n",
    "\n",
    "\n",
    "plot = ue_subiu.plot(kind='bar',figsize=(6, 6),color=('b'))\n",
    "plt.title(\"Países que subiram com a entrada na UE\")\n",
    "plt.ylabel(\"Frequência relativa\")\n",
    "plt.xlabel(\"0 = Não Subiu & 1 = Subiu\")\n",
    "plt.show()\n",
    "\n",
    "plot = merco_subiu.plot(kind='bar',figsize=(6, 6),color=('r'))\n",
    "plt.title(\"Países que subiram com a entrada no Mercosul\")\n",
    "plt.ylabel(\"Frequência relativa\")\n",
    "plt.xlabel(\"0 = Não Subiu & 1 = Subiu\")\n",
    "plt.show()"
   ]
  },
  {
   "cell_type": "markdown",
   "metadata": {},
   "source": [
    "### Explicação dos Gráficos acima:\n",
    "\n",
    "Olhando ambos os gráficos acima é evidente que os países que entram na União Europeia recebem uma quantidade maior de investimento exterior. Em quanto 68,2% dos países que entraram na União Europeia tiveram seu fluxo de investimento exterior aumentarem, somente 20% dos países que entraram para o Mercosul tiveram seu fluxo de investimento aumentado com sua entrada no bloco. Mas isso ainda não é evidência suficiente para dizer que o motivo disso é a moeda centralizada e com isso prosseguimos a próxima iteração."
   ]
  },
  {
   "cell_type": "markdown",
   "metadata": {},
   "source": [
    "### Próximo passo:\n",
    "\n",
    "Agora para solidicarmos a hipótese podemos comparar os países dentro da própria União Europeia, como não são todos os países que utilizam a moeda centralizada é interessante comparar o fluxo de investimento de países que adotaram a moeda centralizada se opondo aos país que não a adotou."
   ]
  },
  {
   "cell_type": "code",
   "execution_count": 105,
   "metadata": {},
   "outputs": [
    {
     "data": {
      "image/png": "[encoded data removed]",
      "text/plain": [
       "<Figure size 432x432 with 1 Axes>"
      ]
     },
     "metadata": {
      "needs_background": "light"
     },
     "output_type": "display_data"
    },
    {
     "data": {
      "image/png": "[encoded data removed]",
      "text/plain": [
       "<Figure size 432x432 with 1 Axes>"
      ]
     },
     "metadata": {
      "needs_background": "light"
     },
     "output_type": "display_data"
    }
   ],
   "source": [
    "ue_euro = ue_dados.loc[(ue_dados.Euro==1)]\n",
    "\n",
    "ue_euro_subiu = (ue_euro.Subiu.value_counts(sort=False, normalize=True)*100).round(decimals=1)\n",
    "\n",
    "ue_n_euro = ue_dados.loc[(ue_dados.Euro==0)]\n",
    "\n",
    "ue_n_euro_subiu = (ue_n_euro.Subiu.value_counts(sort=False, normalize=True)*100).round(decimals=1)\n",
    "\n",
    "plot = ue_euro_subiu.plot(kind='bar',figsize=(6, 6),color=('b'))\n",
    "plt.title(\"Países que subiram que utilizam Euro\")\n",
    "plt.ylabel(\"Frequência relativa\")\n",
    "plt.xlabel(\"0 = Não Subiu & 1 = Subiu\")\n",
    "plt.show()\n",
    "\n",
    "plot = ue_n_euro_subiu.plot(kind='bar',figsize=(6, 6),color=('r'))\n",
    "plt.title(\"Países que subiram que não utilizam Euro\")\n",
    "plt.ylabel(\"Frequência relativa\")\n",
    "plt.xlabel(\"0 = Não Subiu & 1 = Subiu\")\n",
    "plt.show()"
   ]
  },
  {
   "cell_type": "markdown",
   "metadata": {},
   "source": [
    "### Explicação dos Gráficos acima:\n",
    "\n",
    "Levando em conta ambos gráficos acima é possivel reiterar nossa hipótese que afirma que uma moeda centralizada atrai mais investidores externos. Em quanto 76,9% dos países subiram com a unificação de sua moeda apenas 55,6% dos países que não aderem a moeda unificada tiveram seu investimento exterior aumentar. Note que em ambas as iterações prévias é importante utilizar frequência relativa para comparar os dados para compensar a diferença de quantidade de países na amostra. \n"
   ]
  },
  {
   "cell_type": "code",
   "execution_count": null,
   "metadata": {},
   "outputs": [],
   "source": []
  },
  {
   "cell_type": "code",
   "execution_count": null,
   "metadata": {},
   "outputs": [],
   "source": []
  },
  {
   "cell_type": "code",
   "execution_count": null,
   "metadata": {},
   "outputs": [],
   "source": []
  },
  {
   "cell_type": "code",
   "execution_count": null,
   "metadata": {},
   "outputs": [],
   "source": []
  },
  {
   "cell_type": "code",
   "execution_count": null,
   "metadata": {},
   "outputs": [],
   "source": []
  },
  {
   "cell_type": "code",
   "execution_count": null,
   "metadata": {},
   "outputs": [],
   "source": []
  },
  {
   "cell_type": "code",
   "execution_count": null,
   "metadata": {},
   "outputs": [],
   "source": []
  }
 ],
 "metadata": {
  "kernelspec": {
   "display_name": "Python 3",
   "language": "python",
   "name": "python3"
  },
  "language_info": {
   "codemirror_mode": {
    "name": "ipython",
    "version": 3
   },
   "file_extension": ".py",
   "mimetype": "text/x-python",
   "name": "python",
   "nbconvert_exporter": "python",
   "pygments_lexer": "ipython3",
   "version": "3.7.1"
  }
 },
 "nbformat": 4,
 "nbformat_minor": 2
}
